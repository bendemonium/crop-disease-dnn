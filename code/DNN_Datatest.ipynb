{
  "nbformat": 4,
  "nbformat_minor": 0,
  "metadata": {
    "colab": {
      "provenance": []
    },
    "kernelspec": {
      "name": "python3",
      "display_name": "Python 3"
    },
    "language_info": {
      "name": "python"
    }
  },
  "cells": [
    {
      "cell_type": "code",
      "execution_count": null,
      "metadata": {
        "id": "jG00giB1TaJv"
      },
      "outputs": [],
      "source": [
        "from google.colab import drive\n",
        "drive.mount('/content/drive')"
      ]
    },
    {
      "cell_type": "code",
      "source": [
        "!unzip '/content/drive/My Drive/CSE 5717 - Final Project/Dataset.zip'"
      ],
      "metadata": {
        "id": "JFwdhUhhTc5Z"
      },
      "execution_count": null,
      "outputs": []
    },
    {
      "cell_type": "code",
      "source": [
        "from google.colab import files"
      ],
      "metadata": {
        "id": "qhSWPrm5TeYQ"
      },
      "execution_count": null,
      "outputs": []
    },
    {
      "cell_type": "code",
      "source": [
        "import tensorflow as tf\n",
        "from tensorflow.keras.models import Sequential\n",
        "from tensorflow.keras.layers import Conv2D, MaxPooling2D, Flatten, Dense, Dropout"
      ],
      "metadata": {
        "id": "L_RPLdS3YjF_"
      },
      "execution_count": null,
      "outputs": []
    },
    {
      "cell_type": "code",
      "source": [
        "train_dir = \"Dataset/Tomato/Train\"\n",
        "test_dir = \"Dataset/Tomato/Test\"\n",
        "\n",
        "train_datagen = ImageDataGenerator(rescale=(1/255.),shear_range = 0.2,zoom_range=0.2,\n",
        "                                  horizontal_flip=True)\n",
        "\n",
        "training_set = train_datagen.flow_from_directory(directory = train_dir,target_size=(64,64),\n",
        "                                                batch_size=32,\n",
        "                                                class_mode = \"categorical\")\n",
        "test_datagen = ImageDataGenerator(rescale=(1/255.))\n",
        "test_set = test_datagen.flow_from_directory(directory = test_dir,target_size=(64,64),\n",
        "                                            batch_size=32,\n",
        "                                            class_mode = \"categorical\")"
      ],
      "metadata": {
        "id": "LfQsSfkZTfmG"
      },
      "execution_count": null,
      "outputs": []
    },
    {
      "cell_type": "code",
      "source": [
        "model = Sequential()\n",
        "\n",
        "model.add(Conv2D(32, (3, 3), input_shape=(64, 64, 3), activation='relu'))\n",
        "model.add(MaxPooling2D(pool_size=(2, 2)))\n",
        "\n",
        "model.add(Conv2D(64, (3, 3), activation='relu'))\n",
        "model.add(MaxPooling2D(pool_size=(2, 2)))\n",
        "\n",
        "model.add(Flatten())\n",
        "\n",
        "model.add(Dense(128, activation='relu'))\n",
        "model.add(Dropout(0.5))\n",
        "model.add(Dense(64, activation='relu'))\n",
        "model.add(Dense(5, activation='softmax'))\n",
        "\n",
        "\n",
        "model.compile(optimizer='adam', loss='categorical_crossentropy', metrics=['accuracy'])"
      ],
      "metadata": {
        "id": "8PxjfANNXtiz"
      },
      "execution_count": null,
      "outputs": []
    },
    {
      "cell_type": "code",
      "source": [
        "history = model.fit(training_set, epochs=25, validation_data=test_set)"
      ],
      "metadata": {
        "id": "4CSmq8AfZbSs"
      },
      "execution_count": null,
      "outputs": []
    }
  ]
}